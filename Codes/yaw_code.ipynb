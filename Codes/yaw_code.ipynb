{
 "cells": [
  {
   "cell_type": "code",
   "execution_count": 2,
   "id": "785e611e-d434-4a15-ac85-7ffc458c7eb2",
   "metadata": {},
   "outputs": [
    {
     "name": "stdout",
     "output_type": "stream",
     "text": [
      "Requirement already satisfied: Pillow in c:\\users\\messi\\anaconda3\\lib\\site-packages (11.1.0)\n",
      "Requirement already satisfied: piexif in c:\\users\\messi\\anaconda3\\lib\\site-packages (1.1.3)\n",
      "Note: you may need to restart the kernel to use updated packages.\n"
     ]
    }
   ],
   "source": [
    "pip install Pillow piexif"
   ]
  },
  {
   "cell_type": "code",
   "execution_count": 2,
   "id": "6d42e547-a101-4893-9f07-1686db5cf9c6",
   "metadata": {},
   "outputs": [
    {
     "name": "stdout",
     "output_type": "stream",
     "text": [
      "R0010036.JPG -> Yaw: 290.8\n",
      "R0010037.JPG -> Yaw: 295.98\n",
      "R0010038.JPG -> Yaw: 302.21\n",
      "R0010039.JPG -> Yaw: 297.93\n",
      "R0010041.JPG -> Yaw: 307.32\n",
      "R0010042.JPG -> Yaw: 288.56\n",
      "R0010043.JPG -> Yaw: 297.44\n",
      "R0010045.JPG -> Yaw: 294.3\n",
      "R0010046.JPG -> Yaw: 296.58\n",
      "R0010047.JPG -> Yaw: 289.77\n",
      "R0010048.JPG -> Yaw: 293.41\n",
      "R0010050.JPG -> Yaw: 210.21\n",
      "R0010051.JPG -> Yaw: 213.09\n",
      "R0010052.JPG -> Yaw: 207.39\n",
      "R0010053.JPG -> Yaw: 201.73\n",
      "R0010055.JPG -> Yaw: 115.28\n",
      "R0010056.JPG -> Yaw: 26.26\n",
      "R0010058.JPG -> Yaw: 290.14\n",
      "R0010059.JPG -> Yaw: 291.89\n",
      "R0010061.JPG -> Yaw: 294.99\n",
      "R0010062.JPG -> Yaw: 301.03\n",
      "R0010063.JPG -> Yaw: 302.65\n",
      "R0010064.JPG -> Yaw: 293.72\n",
      "R0010065.JPG -> Yaw: 293.87\n",
      "R0010066.JPG -> Yaw: 301.87\n",
      "R0010067.JPG -> Yaw: 289.2\n",
      "R0010068.JPG -> Yaw: 304.83\n",
      "R0010070.JPG -> Yaw: 281.83\n",
      "R0010071.JPG -> Yaw: 293.33\n",
      "R0010072.JPG -> Yaw: 290.97\n",
      "R0010073.JPG -> Yaw: 262.72\n",
      "R0010074.JPG -> Yaw: 297.13\n",
      "R0010075.JPG -> Yaw: 302.86\n",
      "R0010077.JPG -> Yaw: 356.68\n",
      "R0010078.JPG -> Yaw: 3.11\n",
      "R0010079.JPG -> Yaw: 15.43\n",
      "R0010081.JPG -> Yaw: 16.62\n",
      "R0010082.JPG -> Yaw: 40.39\n",
      "R0010083.JPG -> Yaw: 110.94\n",
      "R0010084.JPG -> Yaw: 200.71\n",
      "R0010085.JPG -> Yaw: 203.49\n",
      "R0010086.JPG -> Yaw: 199.53\n",
      "R0010087.JPG -> Yaw: 98.43\n",
      "R0010088.JPG -> Yaw: 5.36\n",
      "R0010089.JPG -> Yaw: 35.42\n",
      "R0010090.JPG -> Yaw: 32.34\n",
      "R0010092.JPG -> Yaw: 118.87\n",
      "R0010093.JPG -> Yaw: 115.69\n",
      "R0010094.JPG -> Yaw: 112.05\n",
      "R0010095.JPG -> Yaw: 106.57\n",
      "R0010096.JPG -> Yaw: 118.08\n",
      "R0010104.JPG -> Yaw: 285.98\n",
      "R0010106.JPG -> Yaw: 104.82\n",
      "R0010107.JPG -> Yaw: 37.25\n"
     ]
    }
   ],
   "source": [
    "import os\n",
    "from PIL import Image\n",
    "import piexif\n",
    "\n",
    "folder = \"My project/Assets/campus_/Campus\"\n",
    "\n",
    "for filename in os.listdir(folder):\n",
    "    if filename.lower().endswith((\".jpg\", \".jpeg\")):\n",
    "        path = os.path.join(folder, filename)\n",
    "        exif_dict = piexif.load(path)\n",
    "        gps = exif_dict.get(\"GPS\", {})\n",
    "        heading = gps.get(piexif.GPSIFD.GPSImgDirection)\n",
    "        if heading:\n",
    "            yaw = heading[0] / heading[1]\n",
    "            print(f\"{filename} -> Yaw: {yaw}\")\n",
    "        else:\n",
    "            print(f\"{filename} -> No GPSImgDirection found\")\n"
   ]
  },
  {
   "cell_type": "code",
   "execution_count": null,
   "id": "7801def2-c4c3-4b6e-8714-9f5c220052bc",
   "metadata": {},
   "outputs": [],
   "source": []
  }
 ],
 "metadata": {
  "kernelspec": {
   "display_name": "Python [conda env:base] *",
   "language": "python",
   "name": "conda-base-py"
  },
  "language_info": {
   "codemirror_mode": {
    "name": "ipython",
    "version": 3
   },
   "file_extension": ".py",
   "mimetype": "text/x-python",
   "name": "python",
   "nbconvert_exporter": "python",
   "pygments_lexer": "ipython3",
   "version": "3.13.5"
  }
 },
 "nbformat": 4,
 "nbformat_minor": 5
}
